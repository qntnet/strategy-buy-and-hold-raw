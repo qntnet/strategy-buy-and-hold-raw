{
 "cells": [
  {
   "cell_type": "markdown",
   "metadata": {},
   "source": [
    "# Buy-and-Hold Submission Raw Template\n",
    "\n",
    "This simple template provides the shortest and quickest implementation of the strategy explained in the 10-minute Buy-and-Hold Template."
   ]
  },
  {
   "cell_type": "code",
   "execution_count": null,
   "metadata": {},
   "outputs": [],
   "source": [
    "import xarray as xr\n",
    "import qnt.data as qndata\n",
    "\n",
    "data = qndata.load_data(min_date=\"2015-01-01\",\n",
    "                        dims=(\"time\", \"field\", \"asset\"))\n",
    "\n",
    "is_liquid = data.loc[::-1,\"is_liquid\",:]\n",
    "\n",
    "weights = is_liquid / is_liquid.sum(\"asset\")\n",
    "weights = weights.fillna(0.0)\n",
    "\n",
    "qndata.write_output(weights)"
   ]
  }
 ],
 "metadata": {
  "kernelspec": {
   "display_name": "Python 3",
   "language": "python",
   "name": "python3"
  },
  "language_info": {
   "codemirror_mode": {
    "name": "ipython",
    "version": 3
   },
   "file_extension": ".py",
   "mimetype": "text/x-python",
   "name": "python",
   "nbconvert_exporter": "python",
   "pygments_lexer": "ipython3",
   "version": "3.7.2"
  }
 },
 "nbformat": 4,
 "nbformat_minor": 2
}
